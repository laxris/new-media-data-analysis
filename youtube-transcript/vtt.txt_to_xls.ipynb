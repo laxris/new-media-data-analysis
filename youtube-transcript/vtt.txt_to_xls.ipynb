{
 "cells": [
  {
   "cell_type": "markdown",
   "id": "0dc3f792",
   "metadata": {},
   "source": [
    "# Youtube transcripts into CSV/XLS\n",
    "\n",
    "Take a list of youtube-videos that have been processed with the `yt-transcripts.py`script and the directory with all the outputs, and create a CSV/CLS file that contains the youtube-id, the transcript, and a truncated version of the transcript to load into spreadsheets with cell-size limitations."
   ]
  },
  {
   "cell_type": "code",
   "execution_count": 1,
   "id": "9647183a",
   "metadata": {},
   "outputs": [],
   "source": [
    "import pandas as pd\n",
    "import glob"
   ]
  },
  {
   "cell_type": "code",
   "execution_count": 4,
   "id": "84cd92be",
   "metadata": {},
   "outputs": [],
   "source": [
    "with open (\"youtubelinkstodownloadtranscriptsfrom.txt\") as fh:\n",
    "    urls = fh.readlines()"
   ]
  },
  {
   "cell_type": "code",
   "execution_count": 5,
   "id": "10895022",
   "metadata": {},
   "outputs": [
    {
     "data": {
      "text/plain": [
       "'Uh4QGey2zTk'"
      ]
     },
     "execution_count": 5,
     "metadata": {},
     "output_type": "execute_result"
    }
   ],
   "source": [
    "(urls[0]).strip().split(\"v=\")[1]"
   ]
  },
  {
   "cell_type": "code",
   "execution_count": 11,
   "id": "a976e544",
   "metadata": {},
   "outputs": [],
   "source": [
    "files = {}"
   ]
  },
  {
   "cell_type": "code",
   "execution_count": 12,
   "id": "1851738d",
   "metadata": {},
   "outputs": [
    {
     "name": "stdout",
     "output_type": "stream",
     "text": [
      "hk9xasg4dDk\n",
      "OtxZZq40JEM\n",
      "b25ohime5Xw\n",
      "IcrBqCFLHIY\n",
      "88o7WHWezC8\n",
      "u1mWe_YNg-4\n",
      "qmn46KrztJ0\n",
      "X58CNXBAd6Q\n",
      "bor0qLifjz4\n",
      "wZDIUwoHpGc\n",
      "SUfjtKtkS2U\n",
      "5zz6LlDVRl0\n",
      "vnt-b6zAoaM\n",
      "kM1r39BtixU\n",
      "cxrkC-pMH_s\n",
      "MtH9TUvo2cA\n",
      "ip29bKyDwvc\n",
      "QQxvOFsIkHg\n",
      "TlMIfaBX9hs\n",
      "12jIzF1ucJ4\n",
      "H_ggZ1dPrpU\n",
      "fFCJoq9iaik\n",
      "vxgaNzR3i1s\n",
      "v5yztfMWXqA\n",
      "ZLmzJfbq0lc\n",
      "gUv7iDFdomU\n",
      "Vc-60fC4TUw\n",
      "ivWXuOd5SrI\n",
      "ErcH_OuCaNY\n",
      "GRfp-sw9P9M\n",
      "CjAVfW_6juw\n",
      "hA0u9MLH1t4\n",
      "1weooQPl4j0\n",
      "PlD3fb1bUfs\n",
      "wUgxT6stPmw\n",
      "2kJDTzFtUr4\n",
      "2HMQOP1pEok\n",
      "VJwnAaZw7Ac\n",
      "84C4FODThGk\n",
      "60Qz051rD_w\n",
      "hi1L_dqDbOI\n",
      "IiYO_gHtRLI\n",
      "bKINwXXzlaQ\n",
      "vIcDqs5GLNw\n",
      "0nZrcy5sDuY\n",
      "Oq4OHT4hhJc\n",
      "3XA7y0t8Ywc\n",
      "VdmIjAMPVPY\n",
      "_ZiCEIWNU7c\n",
      "Shuv9-MJBEU\n",
      "Bu52CE55BN0\n",
      "a3PXVakobDU\n",
      "dru2BLnrBgo\n",
      "5LfkFJLk8Q4\n",
      "06Rrq51b1H0\n",
      "rw_eX4RvSDE\n",
      "v-i54N_S3LM\n",
      "smxnmsREV9E\n",
      "98rZGdwE2Tk\n",
      "3JIFkvzWBr0\n",
      "fdvxp5NLnKY\n",
      "gUmDVe6C-BU\n",
      "WvCIPfo9ks8\n",
      "k_zz3239DA0\n",
      "vVncxGNcXzk\n",
      "EBCXVokr4Lw\n",
      "c9arR8T0Qts\n",
      "MMMbECbbi74\n",
      "aanLJwwqbeM\n",
      "HsNh7xUMlg8\n",
      "hEf1ZEl1naM\n",
      "nd9JVM7H9LE\n",
      "Uh4QGey2zTk\n",
      "o7l1byAqByA\n",
      "ethnHSgVbHs\n",
      "9BvUpkwXCTg\n",
      "nMd200zUQJA\n",
      "wuLuBroXAKo\n",
      "g8Qav3vIv9s\n",
      "2tSs7aESx8s\n",
      "I-AL2agAI_o\n",
      "JrOiI2b-mA4\n",
      "VffSs0lXhb8\n",
      "wLapllZBBv0\n",
      "iSVHp6CAyQ8\n",
      "tQ_HeCalYq8\n",
      "60rgn0I6-sA\n",
      "YPFk-0CcWgI\n",
      "h1IN1hnhaGI\n",
      "hrpPKCDLRN0\n",
      "33vbFFFn04k\n",
      "gPpAL_pG_Wc\n",
      "zUpbyLoUnB8\n"
     ]
    }
   ],
   "source": [
    "for file in glob.glob(\"*.vtt.txt\"):\n",
    "    print(file[-23:-12])\n",
    "    with open(file) as fh:\n",
    "        content = fh.read()\n",
    "    \n",
    "    files[file[-23:-12]] = content\n"
   ]
  },
  {
   "cell_type": "code",
   "execution_count": 13,
   "id": "ef2d86ff",
   "metadata": {},
   "outputs": [],
   "source": [
    "for url in urls:\n",
    "    if (url).strip().split(\"v=\")[1] not in files.keys():\n",
    "        files[(url).strip().split(\"v=\")[1]] = \"\""
   ]
  },
  {
   "cell_type": "code",
   "execution_count": 14,
   "id": "6d7e9e82",
   "metadata": {},
   "outputs": [],
   "source": [
    "df = pd.DataFrame(list(files.items()), columns=[\"video-id\", \"transcript\"])"
   ]
  },
  {
   "cell_type": "code",
   "execution_count": 15,
   "id": "2b0bd8fd",
   "metadata": {},
   "outputs": [],
   "source": [
    "df.to_csv(\"sara.csv\")"
   ]
  },
  {
   "cell_type": "code",
   "execution_count": 21,
   "id": "81dc54fe",
   "metadata": {},
   "outputs": [],
   "source": [
    "df[\"length\"] = df[\"transcript\"].apply(len)"
   ]
  },
  {
   "cell_type": "code",
   "execution_count": 22,
   "id": "9c0b6896",
   "metadata": {},
   "outputs": [],
   "source": [
    "df[\"truncated\"] = df[\"transcript\"].apply(lambda s: s[0:32767])"
   ]
  },
  {
   "cell_type": "code",
   "execution_count": 23,
   "id": "fc7d5a8f",
   "metadata": {},
   "outputs": [],
   "source": [
    "df[\"is_truncated\"] = df[\"transcript\"].apply(lambda s: len(s) > 32767)"
   ]
  },
  {
   "cell_type": "code",
   "execution_count": 24,
   "id": "af028e80",
   "metadata": {},
   "outputs": [],
   "source": [
    "export = df[[\"video-id\", \"truncated\", \"is_truncated\", \"length\"]]"
   ]
  },
  {
   "cell_type": "code",
   "execution_count": 28,
   "id": "2fdc88d2",
   "metadata": {},
   "outputs": [
    {
     "name": "stderr",
     "output_type": "stream",
     "text": [
      "/tmp/ipykernel_169428/2448535203.py:1: FutureWarning: As the xlwt package is no longer maintained, the xlwt engine will be removed in a future version of pandas. This is the only engine in pandas that supports writing in the xls format. Install openpyxl and write to an xlsx file instead. You can set the option io.excel.xls.writer to 'xlwt' to silence this warning. While this option is deprecated and will also raise a warning, it can be globally set and the warning suppressed.\n",
      "  export.to_excel(\"sara.xls\")\n"
     ]
    }
   ],
   "source": [
    "export.to_excel(\"sara.xls\")"
   ]
  },
  {
   "cell_type": "code",
   "execution_count": null,
   "id": "9e9ecb88",
   "metadata": {},
   "outputs": [],
   "source": []
  }
 ],
 "metadata": {
  "kernelspec": {
   "display_name": "Python 3 (ipykernel)",
   "language": "python",
   "name": "python3"
  },
  "language_info": {
   "codemirror_mode": {
    "name": "ipython",
    "version": 3
   },
   "file_extension": ".py",
   "mimetype": "text/x-python",
   "name": "python",
   "nbconvert_exporter": "python",
   "pygments_lexer": "ipython3",
   "version": "3.10.6"
  }
 },
 "nbformat": 4,
 "nbformat_minor": 5
}
